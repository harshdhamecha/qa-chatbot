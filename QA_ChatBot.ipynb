{
  "nbformat": 4,
  "nbformat_minor": 0,
  "metadata": {
    "colab": {
      "provenance": []
    },
    "kernelspec": {
      "name": "python3",
      "display_name": "Python 3"
    },
    "language_info": {
      "name": "python"
    }
  },
  "cells": [
    {
      "cell_type": "markdown",
      "source": [
        "# Background\n",
        "\n",
        "This notebook is a demonstration of Q/A Chatbot with Retrieval Augmented Generation. <br>\n",
        "\n",
        "You can download the sample documents from my [GitHub](https://github.com/harshdhamecha/qa-chatbot/tree/main/sample). I have referred 3 AiSensy blogs, and converted them into pdfs.\n"
      ],
      "metadata": {
        "id": "1YkPhPDwZlEf"
      }
    },
    {
      "cell_type": "markdown",
      "source": [
        "# Setup"
      ],
      "metadata": {
        "id": "vnXkqij_Sd1M"
      }
    },
    {
      "cell_type": "code",
      "source": [
        "# Remove unnecessary directory if exists\n",
        "\n",
        "!rm -rf /content/sample_data"
      ],
      "metadata": {
        "id": "7FYgMe3jTi9o"
      },
      "execution_count": 47,
      "outputs": []
    },
    {
      "cell_type": "markdown",
      "source": [
        "## Import Modules"
      ],
      "metadata": {
        "id": "F857voTDZOFj"
      }
    },
    {
      "cell_type": "code",
      "source": [
        "!pip install --upgrade --quiet langchain-pinecone langchain-openai langchain langchain-community pinecone-client tiktoken"
      ],
      "metadata": {
        "id": "YWKB6df1R7VG"
      },
      "execution_count": 1,
      "outputs": []
    },
    {
      "cell_type": "code",
      "source": [
        "!pip install unstructured -q\n",
        "!pip install unstructured[local-inference] -q"
      ],
      "metadata": {
        "id": "lNd4X1Io8MqH"
      },
      "execution_count": 2,
      "outputs": []
    },
    {
      "cell_type": "markdown",
      "source": [
        "## API Keys"
      ],
      "metadata": {
        "id": "spIJ8LcjZQ1j"
      }
    },
    {
      "cell_type": "code",
      "source": [
        "import getpass\n",
        "import os\n",
        "\n",
        "os.environ[\"OPENAI_API_KEY\"] = getpass.getpass(\"Enter OPENAI API Key\\n\")\n",
        "os.environ['PINECONE_API_KEY'] = getpass.getpass(\"Enter Pinecone API Key\\n\")"
      ],
      "metadata": {
        "colab": {
          "base_uri": "https://localhost:8080/"
        },
        "id": "i5tPqZ1Z_n2U",
        "outputId": "9c7e5bc7-1a3e-45c7-95e2-13e28ef4356a"
      },
      "execution_count": 3,
      "outputs": [
        {
          "name": "stdout",
          "output_type": "stream",
          "text": [
            "Enter OPENAI API Key\n",
            "··········\n",
            "Enter Pinecone API Key\n",
            "··········\n"
          ]
        }
      ]
    },
    {
      "cell_type": "markdown",
      "source": [
        "# Data Preparation"
      ],
      "metadata": {
        "id": "vLYd8mcRdP0x"
      }
    },
    {
      "cell_type": "code",
      "source": [
        "from langchain.document_loaders import DirectoryLoader\n",
        "\n",
        "def load_documents(path):\n",
        "    loader = DirectoryLoader(path)\n",
        "    documents = loader.load()\n",
        "    return documents"
      ],
      "metadata": {
        "id": "WtGcvmJd_QB2"
      },
      "execution_count": 4,
      "outputs": []
    },
    {
      "cell_type": "code",
      "source": [
        "directory = '/content/'\n",
        "documents = load_documents(directory)"
      ],
      "metadata": {
        "id": "VFKev8_tE6Ni"
      },
      "execution_count": 5,
      "outputs": []
    },
    {
      "cell_type": "code",
      "source": [
        "len(documents)"
      ],
      "metadata": {
        "id": "gEjD8A75FOLF",
        "colab": {
          "base_uri": "https://localhost:8080/"
        },
        "outputId": "93be6434-fa5c-4e82-881b-8f0a3c226650"
      },
      "execution_count": 6,
      "outputs": [
        {
          "output_type": "execute_result",
          "data": {
            "text/plain": [
              "3"
            ]
          },
          "metadata": {},
          "execution_count": 6
        }
      ]
    },
    {
      "cell_type": "code",
      "source": [
        "from langchain.text_splitter import RecursiveCharacterTextSplitter\n",
        "\n",
        "def split_documents(documents, chunk_size=400, chunk_overlap=30):\n",
        "    text_splitter = RecursiveCharacterTextSplitter(chunk_size=chunk_size, chunk_overlap=chunk_overlap)\n",
        "    chunks = text_splitter.split_documents(documents)\n",
        "    return chunks"
      ],
      "metadata": {
        "id": "qwUj7NiuFR4j"
      },
      "execution_count": 7,
      "outputs": []
    },
    {
      "cell_type": "code",
      "source": [
        "chunks = split_documents(documents)"
      ],
      "metadata": {
        "id": "P0EOaGUtGurn"
      },
      "execution_count": 8,
      "outputs": []
    },
    {
      "cell_type": "markdown",
      "source": [
        "## Embeddings"
      ],
      "metadata": {
        "id": "6ECP1UvldzqW"
      }
    },
    {
      "cell_type": "code",
      "source": [
        "from langchain_openai import OpenAIEmbeddings\n",
        "\n",
        "embeddings = OpenAIEmbeddings(model='text-embedding-ada-002')"
      ],
      "metadata": {
        "id": "7iS_m0JkHFAz"
      },
      "execution_count": 11,
      "outputs": []
    },
    {
      "cell_type": "markdown",
      "source": [
        "## Create Vector Database"
      ],
      "metadata": {
        "id": "0R89Hs59c4Mj"
      }
    },
    {
      "cell_type": "code",
      "source": [
        "import pinecone\n",
        "from pinecone import Pinecone, ServerlessSpec\n",
        "\n",
        "pc = Pinecone(\n",
        "    api_key=os.environ.get(\"PINECONE_API_KEY\")\n",
        ")\n",
        "\n",
        "index_name = 'qa-langchain'\n",
        "\n",
        "if index_name not in pc.list_indexes().names():\n",
        "    pc.create_index(\n",
        "        name=index_name,\n",
        "        dimension=1536,\n",
        "        metric='euclidean',\n",
        "        spec=ServerlessSpec(\n",
        "            cloud='aws',\n",
        "            region='us-west-2'\n",
        "        )\n",
        "    )\n",
        "\n",
        "index = pc.Index(index_name)"
      ],
      "metadata": {
        "id": "7b-50mO3AT2U"
      },
      "execution_count": 12,
      "outputs": []
    },
    {
      "cell_type": "code",
      "source": [
        "from langchain_pinecone import PineconeVectorStore\n",
        "\n",
        "docsearch = PineconeVectorStore.from_documents(chunks, embeddings, index_name=index_name)"
      ],
      "metadata": {
        "id": "u-akA9pUHa8k"
      },
      "execution_count": 13,
      "outputs": []
    },
    {
      "cell_type": "code",
      "source": [
        "def get_similar_docs(query):\n",
        "    return docsearch.similarity_search(query)"
      ],
      "metadata": {
        "id": "4svxFRWVHfzf"
      },
      "execution_count": 14,
      "outputs": []
    },
    {
      "cell_type": "markdown",
      "source": [
        "## Prompt Design"
      ],
      "metadata": {
        "id": "IHsnHZymcd2Z"
      }
    },
    {
      "cell_type": "code",
      "source": [
        "from langchain_core.prompts import ChatPromptTemplate, MessagesPlaceholder\n",
        "\n",
        "prompt = ChatPromptTemplate.from_messages(\n",
        "    [\n",
        "        (\n",
        "            \"system\",\n",
        "            \"You are a helpful assistant that provides answers based on the following context: {context}.\\\n",
        "            Response politely and in a humorous way when any off-topic or out-of-context question is being asked.\"\n",
        "        ),\n",
        "        MessagesPlaceholder(variable_name=\"messages\")\n",
        "    ]\n",
        ")"
      ],
      "metadata": {
        "id": "OJpTTJAfJ0hi"
      },
      "execution_count": 46,
      "outputs": []
    },
    {
      "cell_type": "markdown",
      "source": [
        "# Model"
      ],
      "metadata": {
        "id": "KhY38Te5chNj"
      }
    },
    {
      "cell_type": "code",
      "source": [
        "from langchain_openai import ChatOpenAI\n",
        "\n",
        "model = ChatOpenAI(model='gpt-4o')"
      ],
      "metadata": {
        "id": "B6uRyrJPJB1N"
      },
      "execution_count": 23,
      "outputs": []
    },
    {
      "cell_type": "code",
      "source": [
        "from langchain_core.messages import SystemMessage, trim_messages\n",
        "\n",
        "trimmer = trim_messages(\n",
        "    max_tokens=200,\n",
        "    strategy=\"last\",\n",
        "    token_counter=model,\n",
        "    include_system=False,\n",
        "    allow_partial=False,\n",
        "    start_on=\"human\",\n",
        ")"
      ],
      "metadata": {
        "id": "66NiAKC8x9k6"
      },
      "execution_count": 35,
      "outputs": []
    },
    {
      "cell_type": "code",
      "source": [
        "from langchain_core.runnables import RunnablePassthrough\n",
        "from operator import itemgetter\n",
        "\n",
        "chain = (\n",
        "    RunnablePassthrough.assign(messages=itemgetter(\"messages\") | trimmer)\n",
        "    | prompt\n",
        "    | model\n",
        ")"
      ],
      "metadata": {
        "id": "OgJpqWtuOI9P"
      },
      "execution_count": 36,
      "outputs": []
    },
    {
      "cell_type": "code",
      "source": [
        "from langchain_core.messages import HumanMessage, AIMessage, SystemMessage"
      ],
      "metadata": {
        "id": "wEW7Qh5wz7P4"
      },
      "execution_count": 37,
      "outputs": []
    },
    {
      "cell_type": "code",
      "source": [
        "def get_answer(query, chain, messages):\n",
        "    messages.append(HumanMessage(content=query))\n",
        "    context = get_similar_docs(query)\n",
        "    response = chain.invoke(\n",
        "        {\n",
        "            \"messages\": messages + [HumanMessage(content=query)],\n",
        "            \"context\": context\n",
        "        }\n",
        "    )\n",
        "    messages.append(AIMessage(content=response.content))\n",
        "    return response.content, messages"
      ],
      "metadata": {
        "id": "40dzblnwNxn9"
      },
      "execution_count": 38,
      "outputs": []
    },
    {
      "cell_type": "markdown",
      "source": [
        "# Test"
      ],
      "metadata": {
        "id": "yTQhV8JaZby0"
      }
    },
    {
      "cell_type": "code",
      "source": [
        "messages = []\n",
        "query = \"What is WhatsApp and Email Marketing?\"\n",
        "answer, messages = get_answer(query, chain, messages)"
      ],
      "metadata": {
        "id": "dBjN7PsVOorb"
      },
      "execution_count": 39,
      "outputs": []
    },
    {
      "cell_type": "code",
      "source": [
        "print(answer)"
      ],
      "metadata": {
        "colab": {
          "base_uri": "https://localhost:8080/"
        },
        "id": "J5hgzIPYOxwP",
        "outputId": "7381843d-c00e-4bdf-805d-4b166fae39f5"
      },
      "execution_count": 40,
      "outputs": [
        {
          "output_type": "stream",
          "name": "stdout",
          "text": [
            "Great question! \n",
            "\n",
            "**Email Marketing** is like the seasoned pro in the digital marketing world. It's been around for a while and is incredibly versatile and effective. Businesses use it to drive sales and enhance brand awareness by sending targeted emails to their audience. Think of it as a well-crafted letter delivered right to your inbox, filled with all the latest updates, offers, and important news from your favorite brands.\n",
            "\n",
            "**WhatsApp Marketing**, on the other hand, is the cool new kid on the block. It's more casual and requires less effort in terms of design and content. With WhatsApp, you can share different types of content without worrying about file sizes. It's all about creating closer connections with your audience through more personal and instant conversations.\n",
            "\n",
            "So, whether you prefer the classic charm of email or the instant, casual vibe of WhatsApp, both are fantastic platforms for engaging with your audience!\n"
          ]
        }
      ]
    },
    {
      "cell_type": "code",
      "source": [
        "query = \"Which among them is better?\"\n",
        "answer, messages = get_answer(query, chain, messages)"
      ],
      "metadata": {
        "id": "MKQ8wiWk1t5B"
      },
      "execution_count": 42,
      "outputs": []
    },
    {
      "cell_type": "code",
      "source": [
        "print(answer)"
      ],
      "metadata": {
        "colab": {
          "base_uri": "https://localhost:8080/"
        },
        "id": "4yEaBUfn15Yl",
        "outputId": "a40465f1-e448-4b16-c057-bcc5659efb44"
      },
      "execution_count": 43,
      "outputs": [
        {
          "output_type": "stream",
          "name": "stdout",
          "text": [
            "Ah, the classic showdown of WhatsApp vs. Email Marketing! According to the context, it really depends on your business goals and the nature of your company. However, why choose one when you can leverage the strengths of both? A balanced approach ensures swift engagement and long-term relationship-building. So, in this case, balance is the key to a robust marketing strategy! 🌟\n"
          ]
        }
      ]
    },
    {
      "cell_type": "markdown",
      "source": [
        "Noticed How the context of previous messages has been maintained?"
      ],
      "metadata": {
        "id": "x9ES5Cco2L10"
      }
    },
    {
      "cell_type": "code",
      "source": [
        "# Out-of-context question\n",
        "query = \"How to play cricket?\"\n",
        "answer, messages = get_answer(query, chain, messages)"
      ],
      "metadata": {
        "id": "AzmtPqmKO0Qt"
      },
      "execution_count": 44,
      "outputs": []
    },
    {
      "cell_type": "code",
      "source": [
        "answer"
      ],
      "metadata": {
        "colab": {
          "base_uri": "https://localhost:8080/",
          "height": 70
        },
        "id": "vs8vLY86PTl_",
        "outputId": "7b49e488-c89c-42c5-b81e-7e871fb76169"
      },
      "execution_count": 45,
      "outputs": [
        {
          "output_type": "execute_result",
          "data": {
            "text/plain": [
              "\"Ah, cricket! The sport that has people glued to their screens for hours, if not days. But, as much as I'd love to dive into the nitty-gritty of cricket, our context today is all about mastering WhatsApp content marketing strategies. Perhaps, instead of hitting sixes on the field, we focus on hitting those marketing home runs? 🏏📈\\n\\nHowever, if you're keen on learning cricket, I'd recommend checking out some beginner guides online or maybe even YouTube tutorials. They can teach you all about wickets, runs, and those fancy cricket shots!\""
            ],
            "application/vnd.google.colaboratory.intrinsic+json": {
              "type": "string"
            }
          },
          "metadata": {},
          "execution_count": 45
        }
      ]
    },
    {
      "cell_type": "markdown",
      "source": [
        "Noticed How creatively it managed the Out-of-Context Question?"
      ],
      "metadata": {
        "id": "d83rzqiarm6A"
      }
    }
  ]
}